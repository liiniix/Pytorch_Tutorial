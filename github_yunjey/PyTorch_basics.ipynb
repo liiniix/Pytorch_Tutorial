{
 "cells": [
  {
   "cell_type": "code",
   "execution_count": 1,
   "metadata": {},
   "outputs": [],
   "source": [
    "import torch \n",
    "import torchvision\n",
    "import torch.nn as nn\n",
    "import numpy as np\n",
    "import torchvision.transforms as transforms"
   ]
  },
  {
   "cell_type": "markdown",
   "metadata": {},
   "source": [
    "## Basic autograd"
   ]
  },
  {
   "cell_type": "code",
   "execution_count": 2,
   "metadata": {},
   "outputs": [],
   "source": [
    "x = torch.tensor(1., requires_grad=True)\n",
    "w = torch.tensor(2., requires_grad=True)\n",
    "b = torch.tensor(3., requires_grad=True)"
   ]
  },
  {
   "cell_type": "code",
   "execution_count": 3,
   "metadata": {},
   "outputs": [],
   "source": [
    "y = w*x + b"
   ]
  },
  {
   "cell_type": "code",
   "execution_count": 4,
   "metadata": {},
   "outputs": [],
   "source": [
    "y.backward()"
   ]
  },
  {
   "cell_type": "code",
   "execution_count": 5,
   "metadata": {},
   "outputs": [
    {
     "name": "stdout",
     "output_type": "stream",
     "text": [
      "tensor(2.) tensor(1.) tensor(1.)\n"
     ]
    }
   ],
   "source": [
    "print(x.grad, w.grad, b.grad)"
   ]
  },
  {
   "cell_type": "markdown",
   "metadata": {},
   "source": [
    "## Intermediate autograd example"
   ]
  },
  {
   "cell_type": "code",
   "execution_count": 9,
   "metadata": {},
   "outputs": [],
   "source": [
    "x = torch.randn(10, 3)\n",
    "y = torch.randn(10, 2)"
   ]
  },
  {
   "cell_type": "code",
   "execution_count": 11,
   "metadata": {},
   "outputs": [],
   "source": [
    "linear = nn.Linear(3, 2)"
   ]
  },
  {
   "cell_type": "code",
   "execution_count": 12,
   "metadata": {},
   "outputs": [
    {
     "data": {
      "text/plain": [
       "Parameter containing:\n",
       "tensor([[-0.4221, -0.4464, -0.2761],\n",
       "        [ 0.0476, -0.3313, -0.3354]], requires_grad=True)"
      ]
     },
     "execution_count": 12,
     "metadata": {},
     "output_type": "execute_result"
    }
   ],
   "source": [
    "linear.weight"
   ]
  },
  {
   "cell_type": "code",
   "execution_count": 13,
   "metadata": {},
   "outputs": [
    {
     "data": {
      "text/plain": [
       "Parameter containing:\n",
       "tensor([-0.3356, -0.2608], requires_grad=True)"
      ]
     },
     "execution_count": 13,
     "metadata": {},
     "output_type": "execute_result"
    }
   ],
   "source": [
    "linear.bias"
   ]
  },
  {
   "cell_type": "code",
   "execution_count": 14,
   "metadata": {},
   "outputs": [],
   "source": [
    "criterion = nn.MSELoss()\n",
    "optimizer = torch.optim.SGD(linear.parameters(), lr=.01)"
   ]
  },
  {
   "cell_type": "code",
   "execution_count": 15,
   "metadata": {},
   "outputs": [],
   "source": [
    "pred = linear(x)"
   ]
  },
  {
   "cell_type": "code",
   "execution_count": 18,
   "metadata": {},
   "outputs": [
    {
     "name": "stdout",
     "output_type": "stream",
     "text": [
      "loss: 1.0384862422943115\n"
     ]
    }
   ],
   "source": [
    "loss = criterion(pred, y)\n",
    "print(f\"loss: {loss.item()}\")"
   ]
  },
  {
   "cell_type": "code",
   "execution_count": 19,
   "metadata": {},
   "outputs": [],
   "source": [
    "loss.backward()"
   ]
  },
  {
   "cell_type": "code",
   "execution_count": 21,
   "metadata": {},
   "outputs": [
    {
     "name": "stdout",
     "output_type": "stream",
     "text": [
      "dL/dw: tensor([[-0.6945, -0.1591,  0.1514],\n",
      "        [ 0.2995, -0.2993, -0.3786]]), dL/db: tensor([-0.1426, -0.4200])\n"
     ]
    }
   ],
   "source": [
    "print(f\"dL/dw: {linear.weight.grad}, dL/db: {linear.bias.grad}\")"
   ]
  },
  {
   "cell_type": "code",
   "execution_count": 22,
   "metadata": {},
   "outputs": [],
   "source": [
    "optimizer.step()"
   ]
  },
  {
   "cell_type": "code",
   "execution_count": 23,
   "metadata": {},
   "outputs": [],
   "source": [
    "pred = linear(x)"
   ]
  },
  {
   "cell_type": "code",
   "execution_count": 24,
   "metadata": {},
   "outputs": [
    {
     "name": "stdout",
     "output_type": "stream",
     "text": [
      "loss after 1 epoch: 1.0280550718307495\n"
     ]
    }
   ],
   "source": [
    "loss = criterion(pred, y)\n",
    "print(f\"loss after 1 epoch: {loss.item()}\")"
   ]
  },
  {
   "cell_type": "markdown",
   "metadata": {},
   "source": [
    "## Numpy $\\leftrightarrow$ Tensor"
   ]
  },
  {
   "cell_type": "code",
   "execution_count": 25,
   "metadata": {},
   "outputs": [],
   "source": [
    "x = np.array([[1,2],[3,4]])"
   ]
  },
  {
   "cell_type": "code",
   "execution_count": 26,
   "metadata": {},
   "outputs": [],
   "source": [
    "y = torch.from_numpy(x)"
   ]
  },
  {
   "cell_type": "code",
   "execution_count": 27,
   "metadata": {},
   "outputs": [
    {
     "data": {
      "text/plain": [
       "tensor([[1, 2],\n",
       "        [3, 4]])"
      ]
     },
     "execution_count": 27,
     "metadata": {},
     "output_type": "execute_result"
    }
   ],
   "source": [
    "y"
   ]
  },
  {
   "cell_type": "code",
   "execution_count": 28,
   "metadata": {},
   "outputs": [],
   "source": [
    "z = y.numpy()"
   ]
  },
  {
   "cell_type": "code",
   "execution_count": 29,
   "metadata": {},
   "outputs": [
    {
     "data": {
      "text/plain": [
       "array([[1, 2],\n",
       "       [3, 4]])"
      ]
     },
     "execution_count": 29,
     "metadata": {},
     "output_type": "execute_result"
    }
   ],
   "source": [
    "z"
   ]
  },
  {
   "cell_type": "code",
   "execution_count": 30,
   "metadata": {},
   "outputs": [],
   "source": [
    "z[0,0] = 1"
   ]
  },
  {
   "cell_type": "code",
   "execution_count": 31,
   "metadata": {},
   "outputs": [
    {
     "name": "stdout",
     "output_type": "stream",
     "text": [
      "[[1 2]\n",
      " [3 4]] tensor([[1, 2],\n",
      "        [3, 4]]) [[1 2]\n",
      " [3 4]]\n"
     ]
    }
   ],
   "source": [
    "print(x, y, z)"
   ]
  },
  {
   "cell_type": "markdown",
   "metadata": {},
   "source": [
    "## Dataloader()"
   ]
  },
  {
   "cell_type": "code",
   "execution_count": 33,
   "metadata": {},
   "outputs": [
    {
     "name": "stderr",
     "output_type": "stream",
     "text": [
      "\n",
      "0it [00:00, ?it/s]\u001b[A"
     ]
    },
    {
     "name": "stdout",
     "output_type": "stream",
     "text": [
      "Downloading http://yann.lecun.com/exdb/mnist/train-images-idx3-ubyte.gz to ../../data/MNIST/raw/train-images-idx3-ubyte.gz\n"
     ]
    },
    {
     "name": "stderr",
     "output_type": "stream",
     "text": [
      "\n",
      "  0%|          | 0/9912422 [00:01<?, ?it/s]\u001b[A\n",
      "  0%|          | 49152/9912422 [00:01<00:45, 218524.98it/s]\u001b[A\n",
      "  1%|          | 90112/9912422 [00:01<00:38, 252735.15it/s]\u001b[A\n",
      "  1%|▏         | 139264/9912422 [00:01<00:34, 286728.52it/s]\u001b[A\n",
      "  2%|▏         | 212992/9912422 [00:01<00:34, 277564.62it/s]\u001b[A\n",
      "  4%|▍         | 385024/9912422 [00:01<00:25, 370067.03it/s]\u001b[A\n",
      "  5%|▍         | 475136/9912422 [00:02<00:22, 423099.42it/s]\u001b[A\n",
      "  6%|▌         | 548864/9912422 [00:02<00:19, 469772.95it/s]\u001b[A\n",
      "  6%|▌         | 614400/9912422 [00:03<00:56, 163321.38it/s]\u001b[A\n",
      "  7%|▋         | 663552/9912422 [00:03<00:46, 200056.36it/s]\u001b[A\n",
      "  8%|▊         | 811008/9912422 [00:03<00:36, 247610.53it/s]\u001b[A\n",
      " 10%|▉         | 966656/9912422 [00:03<00:27, 323633.37it/s]\u001b[A\n",
      " 13%|█▎        | 1261568/9912422 [00:03<00:19, 438869.76it/s]\u001b[A\n",
      " 14%|█▍        | 1392640/9912422 [00:03<00:16, 512397.94it/s]\u001b[A\n",
      " 15%|█▌        | 1507328/9912422 [00:04<00:15, 551381.09it/s]\u001b[A\n",
      " 16%|█▋        | 1613824/9912422 [00:04<00:15, 522872.37it/s]\u001b[A\n",
      " 19%|█▊        | 1835008/9912422 [00:04<00:11, 676715.26it/s]\u001b[A\n",
      " 20%|█▉        | 1966080/9912422 [00:04<00:10, 768472.91it/s]\u001b[A\n",
      " 21%|██        | 2088960/9912422 [00:04<00:09, 857028.35it/s]\u001b[A\n",
      " 22%|██▏       | 2211840/9912422 [00:04<00:08, 886739.03it/s]\u001b[A\n",
      " 23%|██▎       | 2326528/9912422 [00:04<00:08, 916056.17it/s]\u001b[A\n",
      " 25%|██▍       | 2441216/9912422 [00:05<00:18, 399003.44it/s]\u001b[A\n",
      " 30%|██▉       | 2949120/9912422 [00:05<00:12, 546853.54it/s]\u001b[A\n",
      " 32%|███▏      | 3129344/9912422 [00:05<00:10, 634056.46it/s]\u001b[A\n",
      " 33%|███▎      | 3284992/9912422 [00:06<00:09, 716099.09it/s]\u001b[A\n",
      " 35%|███▍      | 3424256/9912422 [00:06<00:09, 684179.33it/s]\u001b[A\n",
      " 36%|███▌      | 3547136/9912422 [00:06<00:10, 592644.93it/s]\u001b[A\n",
      " 40%|████      | 3989504/9912422 [00:06<00:07, 791779.50it/s]\u001b[A\n",
      " 42%|████▏     | 4169728/9912422 [00:06<00:06, 868363.51it/s]\u001b[A\n",
      " 44%|████▎     | 4333568/9912422 [00:06<00:05, 1003630.79it/s]\u001b[A\n",
      " 45%|████▌     | 4497408/9912422 [00:07<00:05, 1060059.41it/s]\u001b[A\n",
      " 47%|████▋     | 4644864/9912422 [00:07<00:06, 834385.59it/s] \u001b[A\n",
      " 48%|████▊     | 4767744/9912422 [00:08<00:15, 327775.46it/s]\u001b[A\n",
      " 50%|████▉     | 4907008/9912422 [00:08<00:13, 375969.09it/s]\u001b[A\n",
      " 52%|█████▏    | 5136384/9912422 [00:08<00:10, 467938.16it/s]\u001b[A\n",
      " 55%|█████▌    | 5496832/9912422 [00:09<00:09, 465569.63it/s]\u001b[A\n",
      " 57%|█████▋    | 5685248/9912422 [00:09<00:08, 511751.36it/s]\u001b[A\n",
      " 60%|██████    | 5963776/9912422 [00:10<00:06, 602751.15it/s]\u001b[A\n",
      " 62%|██████▏   | 6152192/9912422 [00:10<00:06, 612928.62it/s]\u001b[A\n",
      " 66%|██████▌   | 6496256/9912422 [00:11<00:06, 489421.71it/s]\u001b[A\n",
      " 67%|██████▋   | 6643712/9912422 [00:11<00:06, 488100.02it/s]\u001b[A\n",
      " 70%|███████   | 6946816/9912422 [00:12<00:05, 495160.64it/s]\u001b[A\n",
      " 72%|███████▏  | 7176192/9912422 [00:12<00:05, 481452.90it/s]\u001b[A\n",
      " 74%|███████▎  | 7299072/9912422 [00:13<00:07, 372998.31it/s]\u001b[A\n",
      " 76%|███████▌  | 7536640/9912422 [00:13<00:06, 393540.92it/s]\u001b[A\n",
      " 78%|███████▊  | 7716864/9912422 [00:13<00:04, 476905.01it/s]\u001b[A\n",
      " 80%|████████  | 7962624/9912422 [00:14<00:03, 603798.92it/s]\u001b[A\n",
      " 81%|████████  | 8052736/9912422 [00:14<00:03, 497499.51it/s]\u001b[A\n",
      " 83%|████████▎ | 8241152/9912422 [00:14<00:02, 637760.11it/s]\u001b[A\n",
      " 84%|████████▍ | 8355840/9912422 [00:15<00:04, 312584.59it/s]\u001b[A\n",
      " 86%|████████▌ | 8495104/9912422 [00:15<00:03, 376992.32it/s]\u001b[A\n",
      " 87%|████████▋ | 8577024/9912422 [00:15<00:03, 387667.45it/s]\u001b[A\n",
      " 87%|████████▋ | 8667136/9912422 [00:15<00:02, 466430.13it/s]\u001b[A\n",
      " 88%|████████▊ | 8749056/9912422 [00:15<00:02, 525217.29it/s]\u001b[A\n",
      " 89%|████████▉ | 8822784/9912422 [00:15<00:01, 567591.84it/s]\u001b[A\n",
      " 90%|████████▉ | 8896512/9912422 [00:16<00:01, 584526.92it/s]\u001b[A\n",
      " 91%|█████████ | 9011200/9912422 [00:16<00:01, 684650.81it/s]\u001b[A\n",
      " 92%|█████████▏| 9109504/9912422 [00:16<00:01, 747887.73it/s]\u001b[A\n",
      " 93%|█████████▎| 9216000/9912422 [00:16<00:00, 766394.30it/s]\u001b[A\n",
      " 94%|█████████▍| 9306112/9912422 [00:16<00:00, 682128.75it/s]\u001b[A\n",
      " 96%|█████████▌| 9469952/9912422 [00:16<00:00, 823153.32it/s]\u001b[A\n",
      " 97%|█████████▋| 9592832/9912422 [00:16<00:00, 911688.57it/s]\u001b[A\n",
      " 98%|█████████▊| 9715712/9912422 [00:16<00:00, 871080.24it/s]\u001b[A\n",
      " 99%|█████████▉| 9838592/9912422 [00:17<00:00, 943137.80it/s]\u001b[A"
     ]
    },
    {
     "name": "stdout",
     "output_type": "stream",
     "text": [
      "Extracting ../../data/MNIST/raw/train-images-idx3-ubyte.gz\n"
     ]
    },
    {
     "name": "stderr",
     "output_type": "stream",
     "text": [
      "\n",
      "\n",
      "0it [00:00, ?it/s]\u001b[A\u001b[A"
     ]
    },
    {
     "name": "stdout",
     "output_type": "stream",
     "text": [
      "Downloading http://yann.lecun.com/exdb/mnist/train-labels-idx1-ubyte.gz to ../../data/MNIST/raw/train-labels-idx1-ubyte.gz\n"
     ]
    },
    {
     "name": "stderr",
     "output_type": "stream",
     "text": [
      "\n",
      "\n",
      "  0%|          | 0/28881 [00:00<?, ?it/s]\u001b[A\u001b[A\n",
      "\n",
      " 57%|█████▋    | 16384/28881 [00:00<00:00, 88452.30it/s]\u001b[A\u001b[A\n",
      "\n",
      "32768it [00:00, 36247.06it/s]                           \u001b[A\u001b[A\n",
      "\n",
      "0it [00:00, ?it/s]\u001b[A\u001b[A"
     ]
    },
    {
     "name": "stdout",
     "output_type": "stream",
     "text": [
      "Extracting ../../data/MNIST/raw/train-labels-idx1-ubyte.gz\n",
      "Downloading http://yann.lecun.com/exdb/mnist/t10k-images-idx3-ubyte.gz to ../../data/MNIST/raw/t10k-images-idx3-ubyte.gz\n"
     ]
    },
    {
     "name": "stderr",
     "output_type": "stream",
     "text": [
      "\n",
      "\n",
      "  0%|          | 0/1648877 [00:00<?, ?it/s]\u001b[A\u001b[A\n",
      "\n",
      "  1%|          | 16384/1648877 [00:01<00:19, 82170.45it/s]\u001b[A\u001b[A\n",
      "\n",
      "  3%|▎         | 49152/1648877 [00:01<00:16, 95472.46it/s]\u001b[A\u001b[A\n",
      "\n",
      "  6%|▌         | 98304/1648877 [00:01<00:12, 121197.35it/s]\u001b[A\u001b[A\n",
      "\n",
      " 10%|▉         | 163840/1648877 [00:01<00:09, 157737.83it/s]\u001b[A\u001b[A\n",
      "\n",
      " 13%|█▎        | 212992/1648877 [00:01<00:07, 196344.56it/s]\u001b[A\u001b[A\n",
      "\n",
      " 22%|██▏       | 368640/1648877 [00:01<00:04, 266008.36it/s]\u001b[A\u001b[A\n",
      "\n",
      " 27%|██▋       | 442368/1648877 [00:01<00:03, 317100.59it/s]\u001b[A\u001b[A\n",
      "\n",
      " 31%|███       | 507904/1648877 [00:02<00:04, 239027.81it/s]\u001b[A\u001b[A\n",
      "\n",
      " 42%|████▏     | 696320/1648877 [00:02<00:02, 322738.12it/s]\u001b[A\u001b[A\n",
      "\n",
      " 48%|████▊     | 786432/1648877 [00:02<00:02, 390856.85it/s]\u001b[A\u001b[A\n",
      "\n",
      " 58%|█████▊    | 958464/1648877 [00:02<00:01, 440534.01it/s]\u001b[A\u001b[A\n",
      "\n",
      " 70%|██████▉   | 1146880/1648877 [00:02<00:00, 527434.26it/s]\u001b[A\u001b[A\n",
      "\n",
      " 80%|████████  | 1327104/1648877 [00:03<00:00, 668568.23it/s]\u001b[A\u001b[A\n",
      "\n",
      " 87%|████████▋ | 1441792/1648877 [00:03<00:00, 469841.58it/s]\u001b[A\u001b[A\n",
      "\n",
      "1654784it [00:03, 473042.97it/s]                             \u001b[A\u001b[A\n",
      "\n",
      "0it [00:00, ?it/s]\u001b[A\u001b[A"
     ]
    },
    {
     "name": "stdout",
     "output_type": "stream",
     "text": [
      "Extracting ../../data/MNIST/raw/t10k-images-idx3-ubyte.gz\n",
      "Downloading http://yann.lecun.com/exdb/mnist/t10k-labels-idx1-ubyte.gz to ../../data/MNIST/raw/t10k-labels-idx1-ubyte.gz\n"
     ]
    },
    {
     "name": "stderr",
     "output_type": "stream",
     "text": [
      "\n",
      "\n",
      "  0%|          | 0/4542 [00:00<?, ?it/s]\u001b[A\u001b[A\n",
      "\n",
      "8192it [00:00, 9251.47it/s]             \u001b[A\u001b[A"
     ]
    },
    {
     "name": "stdout",
     "output_type": "stream",
     "text": [
      "Extracting ../../data/MNIST/raw/t10k-labels-idx1-ubyte.gz\n",
      "Processing...\n",
      "Done!\n"
     ]
    }
   ],
   "source": [
    "train_dataset = torchvision.datasets.MNIST(root='../../data/',\n",
    "                                             train=True, \n",
    "                                             transform=transforms.ToTensor(),\n",
    "                                             download=True)"
   ]
  },
  {
   "cell_type": "code",
   "execution_count": 36,
   "metadata": {},
   "outputs": [],
   "source": [
    "image, label = train_dataset[0]"
   ]
  },
  {
   "cell_type": "code",
   "execution_count": 37,
   "metadata": {},
   "outputs": [
    {
     "name": "stdout",
     "output_type": "stream",
     "text": [
      "torch.Size([1, 28, 28]) 5\n"
     ]
    }
   ],
   "source": [
    "print(image.size(), label)"
   ]
  },
  {
   "cell_type": "code",
   "execution_count": 38,
   "metadata": {},
   "outputs": [],
   "source": [
    "train_loader = torch.utils.data.DataLoader(dataset=train_dataset,\n",
    "                                           batch_size=64, \n",
    "                                           shuffle=True)"
   ]
  },
  {
   "cell_type": "code",
   "execution_count": null,
   "metadata": {},
   "outputs": [],
   "source": []
  },
  {
   "cell_type": "code",
   "execution_count": 40,
   "metadata": {},
   "outputs": [],
   "source": [
    "data_iter = iter(train_loader)"
   ]
  },
  {
   "cell_type": "code",
   "execution_count": 41,
   "metadata": {},
   "outputs": [
    {
     "data": {
      "text/plain": [
       "<torch.utils.data.dataloader._DataLoaderIter at 0x7ff7c0af5a90>"
      ]
     },
     "execution_count": 41,
     "metadata": {},
     "output_type": "execute_result"
    }
   ],
   "source": [
    "data_iter"
   ]
  },
  {
   "cell_type": "code",
   "execution_count": 45,
   "metadata": {},
   "outputs": [],
   "source": [
    "image, label = data_iter.next()"
   ]
  },
  {
   "cell_type": "code",
   "execution_count": 49,
   "metadata": {},
   "outputs": [
    {
     "data": {
      "text/plain": [
       "torch.Size([64])"
      ]
     },
     "execution_count": 49,
     "metadata": {},
     "output_type": "execute_result"
    }
   ],
   "source": [
    "label.size()"
   ]
  },
  {
   "cell_type": "code",
   "execution_count": 50,
   "metadata": {},
   "outputs": [],
   "source": [
    "for image, label in train_loader:\n",
    "    pass"
   ]
  },
  {
   "cell_type": "code",
   "execution_count": null,
   "metadata": {},
   "outputs": [],
   "source": []
  }
 ],
 "metadata": {
  "kernelspec": {
   "display_name": "Python 3.6.9 64-bit",
   "language": "python",
   "name": "python36964bitbe4a55f02b4d487ab9d485b644b96077"
  },
  "language_info": {
   "codemirror_mode": {
    "name": "ipython",
    "version": 3
   },
   "file_extension": ".py",
   "mimetype": "text/x-python",
   "name": "python",
   "nbconvert_exporter": "python",
   "pygments_lexer": "ipython3",
   "version": "3.6.9"
  }
 },
 "nbformat": 4,
 "nbformat_minor": 2
}
