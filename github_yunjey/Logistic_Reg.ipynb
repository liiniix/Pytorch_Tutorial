{
 "cells": [
  {
   "cell_type": "code",
   "execution_count": 1,
   "metadata": {},
   "outputs": [],
   "source": [
    "import torch\n",
    "import torch.nn as nn\n",
    "import torchvision\n",
    "import torchvision.transforms as transforms"
   ]
  },
  {
   "cell_type": "code",
   "execution_count": 2,
   "metadata": {},
   "outputs": [],
   "source": [
    "input_size = 28*28\n",
    "num_classes = 10\n",
    "num_epochs = 5\n",
    "learning_rate = .001\n",
    "batch_size = 100"
   ]
  },
  {
   "cell_type": "code",
   "execution_count": 3,
   "metadata": {},
   "outputs": [],
   "source": [
    "train_dataset = torchvision.datasets.MNIST(root='../../data', \n",
    "                                           train=True, \n",
    "                                           transform=transforms.ToTensor(),\n",
    "                                           download=True)\n",
    "\n",
    "test_dataset = torchvision.datasets.MNIST(root='../../data', \n",
    "                                          train=False, \n",
    "                                          transform=transforms.ToTensor())"
   ]
  },
  {
   "cell_type": "code",
   "execution_count": 4,
   "metadata": {},
   "outputs": [],
   "source": [
    "train_loader = torch.utils.data.DataLoader(dataset=train_dataset, \n",
    "                                           batch_size=batch_size, \n",
    "                                           shuffle=True)\n",
    "\n",
    "test_loader = torch.utils.data.DataLoader(dataset=test_dataset, \n",
    "                                          batch_size=batch_size, \n",
    "                                          shuffle=False)"
   ]
  },
  {
   "cell_type": "code",
   "execution_count": 5,
   "metadata": {},
   "outputs": [],
   "source": [
    "model = nn.Linear(input_size, num_classes)"
   ]
  },
  {
   "cell_type": "code",
   "execution_count": 6,
   "metadata": {},
   "outputs": [],
   "source": [
    "criterion = nn.CrossEntropyLoss()  \n",
    "optimizer = torch.optim.SGD(model.parameters(), lr=learning_rate) "
   ]
  },
  {
   "cell_type": "code",
   "execution_count": null,
   "metadata": {},
   "outputs": [],
   "source": []
  },
  {
   "cell_type": "code",
   "execution_count": null,
   "metadata": {},
   "outputs": [],
   "source": []
  },
  {
   "cell_type": "code",
   "execution_count": null,
   "metadata": {},
   "outputs": [],
   "source": []
  },
  {
   "cell_type": "code",
   "execution_count": 7,
   "metadata": {},
   "outputs": [
    {
     "name": "stdout",
     "output_type": "stream",
     "text": [
      "Epoch [1/5], Step [100/600], Loss: 2.1968\n",
      "Epoch [1/5], Step [200/600], Loss: 2.1408\n",
      "Epoch [1/5], Step [300/600], Loss: 2.0325\n",
      "Epoch [1/5], Step [400/600], Loss: 1.9254\n",
      "Epoch [1/5], Step [500/600], Loss: 1.8609\n",
      "Epoch [1/5], Step [600/600], Loss: 1.7451\n",
      "Epoch [2/5], Step [100/600], Loss: 1.7683\n",
      "Epoch [2/5], Step [200/600], Loss: 1.6972\n",
      "Epoch [2/5], Step [300/600], Loss: 1.5514\n",
      "Epoch [2/5], Step [400/600], Loss: 1.5675\n",
      "Epoch [2/5], Step [500/600], Loss: 1.5223\n",
      "Epoch [2/5], Step [600/600], Loss: 1.4296\n",
      "Epoch [3/5], Step [100/600], Loss: 1.3733\n",
      "Epoch [3/5], Step [200/600], Loss: 1.4300\n",
      "Epoch [3/5], Step [300/600], Loss: 1.4221\n",
      "Epoch [3/5], Step [400/600], Loss: 1.2755\n",
      "Epoch [3/5], Step [500/600], Loss: 1.2975\n",
      "Epoch [3/5], Step [600/600], Loss: 1.3092\n",
      "Epoch [4/5], Step [100/600], Loss: 1.2211\n",
      "Epoch [4/5], Step [200/600], Loss: 1.1866\n",
      "Epoch [4/5], Step [300/600], Loss: 1.1693\n",
      "Epoch [4/5], Step [400/600], Loss: 1.1592\n",
      "Epoch [4/5], Step [500/600], Loss: 1.0600\n",
      "Epoch [4/5], Step [600/600], Loss: 1.1226\n",
      "Epoch [5/5], Step [100/600], Loss: 1.0566\n",
      "Epoch [5/5], Step [200/600], Loss: 1.0691\n",
      "Epoch [5/5], Step [300/600], Loss: 1.0312\n",
      "Epoch [5/5], Step [400/600], Loss: 1.0315\n",
      "Epoch [5/5], Step [500/600], Loss: 0.9759\n",
      "Epoch [5/5], Step [600/600], Loss: 0.9811\n"
     ]
    }
   ],
   "source": [
    "total_step = len(train_loader)\n",
    "for epoch in range(num_epochs):\n",
    "    for i, (images, labels) in enumerate(train_loader):\n",
    "        images = images.reshape(-1, input_size)\n",
    "        \n",
    "        outputs = model(images)\n",
    "        loss = criterion(outputs, labels)\n",
    "        \n",
    "        optimizer.zero_grad()\n",
    "        loss.backward()\n",
    "        optimizer.step()\n",
    "        \n",
    "        if (i+1) % 100 == 0:\n",
    "            print ('Epoch [{}/{}], Step [{}/{}], Loss: {:.4f}' \n",
    "                   .format(epoch+1, num_epochs, i+1, total_step, loss.item()))"
   ]
  },
  {
   "cell_type": "code",
   "execution_count": 8,
   "metadata": {},
   "outputs": [
    {
     "name": "stdout",
     "output_type": "stream",
     "text": [
      "Accuracy of the model on the 10000 test images: 82 %\n"
     ]
    }
   ],
   "source": [
    "with torch.no_grad():\n",
    "    correct = 0\n",
    "    total = 0\n",
    "    for images, labels in test_loader:\n",
    "        images = images.reshape(-1, input_size)\n",
    "        outputs = model(images)\n",
    "        _, predicted = torch.max(outputs.data, 1)\n",
    "        total += labels.size(0)\n",
    "        correct += (predicted == labels).sum()\n",
    "\n",
    "    print('Accuracy of the model on the 10000 test images: {} %'.format(100 * correct / total))"
   ]
  },
  {
   "cell_type": "code",
   "execution_count": 10,
   "metadata": {},
   "outputs": [
    {
     "name": "stdout",
     "output_type": "stream",
     "text": [
      "Using matplotlib backend: Qt5Agg\n"
     ]
    }
   ],
   "source": [
    "%matplotlib"
   ]
  },
  {
   "cell_type": "code",
   "execution_count": 12,
   "metadata": {},
   "outputs": [
    {
     "name": "stdout",
     "output_type": "stream",
     "text": [
      "Epoch:  0\n",
      "Epoch:  1\n",
      "Epoch:  2\n",
      "Epoch:  3\n",
      "Epoch:  4\n",
      "Epoch:  5\n",
      "Epoch:  6\n",
      "Epoch:  7\n",
      "Epoch:  8\n",
      "Epoch:  9\n",
      "Epoch:  10\n",
      "Epoch:  11\n"
     ]
    }
   ],
   "source": [
    "import torch\n",
    "from torch import nn\n",
    "from torch.nn import init\n",
    "import torch.utils.data as Data\n",
    "import matplotlib.pyplot as plt\n",
    "import numpy as np\n",
    "\n",
    "# torch.manual_seed(1)    # reproducible\n",
    "# np.random.seed(1)\n",
    "\n",
    "# Hyper parameters\n",
    "N_SAMPLES = 2000\n",
    "BATCH_SIZE = 64\n",
    "EPOCH = 12\n",
    "LR = 0.03\n",
    "N_HIDDEN = 8\n",
    "ACTIVATION = torch.tanh\n",
    "B_INIT = -0.2   # use a bad bias constant initializer\n",
    "\n",
    "# training data\n",
    "x = np.linspace(-7, 10, N_SAMPLES)[:, np.newaxis]\n",
    "noise = np.random.normal(0, 2, x.shape)\n",
    "y = np.square(x) - 5 + noise\n",
    "\n",
    "# test data\n",
    "test_x = np.linspace(-7, 10, 200)[:, np.newaxis]\n",
    "noise = np.random.normal(0, 2, test_x.shape)\n",
    "test_y = np.square(test_x) - 5 + noise\n",
    "\n",
    "train_x, train_y = torch.from_numpy(x).float(), torch.from_numpy(y).float()\n",
    "test_x = torch.from_numpy(test_x).float()\n",
    "test_y = torch.from_numpy(test_y).float()\n",
    "\n",
    "train_dataset = Data.TensorDataset(train_x, train_y)\n",
    "train_loader = Data.DataLoader(dataset=train_dataset, batch_size=BATCH_SIZE, shuffle=True, num_workers=2,)\n",
    "\n",
    "# show data\n",
    "plt.scatter(train_x.numpy(), train_y.numpy(), c='#FF9359', s=50, alpha=0.2, label='train')\n",
    "plt.legend(loc='upper left')\n",
    "\n",
    "\n",
    "class Net(nn.Module):\n",
    "    def __init__(self, batch_normalization=False):\n",
    "        super(Net, self).__init__()\n",
    "        self.do_bn = batch_normalization\n",
    "        self.fcs = []\n",
    "        self.bns = []\n",
    "        self.bn_input = nn.BatchNorm1d(1, momentum=0.5)   # for input data\n",
    "\n",
    "        for i in range(N_HIDDEN):               # build hidden layers and BN layers\n",
    "            input_size = 1 if i == 0 else 10\n",
    "            fc = nn.Linear(input_size, 10)\n",
    "            setattr(self, 'fc%i' % i, fc)       # IMPORTANT set layer to the Module\n",
    "            self._set_init(fc)                  # parameters initialization\n",
    "            self.fcs.append(fc)\n",
    "            if self.do_bn:\n",
    "                bn = nn.BatchNorm1d(10, momentum=0.5)\n",
    "                setattr(self, 'bn%i' % i, bn)   # IMPORTANT set layer to the Module\n",
    "                self.bns.append(bn)\n",
    "\n",
    "        self.predict = nn.Linear(10, 1)         # output layer\n",
    "        self._set_init(self.predict)            # parameters initialization\n",
    "\n",
    "    def _set_init(self, layer):\n",
    "        init.normal_(layer.weight, mean=0., std=.1)\n",
    "        init.constant_(layer.bias, B_INIT)\n",
    "\n",
    "    def forward(self, x):\n",
    "        pre_activation = [x]\n",
    "        if self.do_bn: x = self.bn_input(x)     # input batch normalization\n",
    "        layer_input = [x]\n",
    "        for i in range(N_HIDDEN):\n",
    "            x = self.fcs[i](x)\n",
    "            pre_activation.append(x)\n",
    "            if self.do_bn: x = self.bns[i](x)   # batch normalization\n",
    "            x = ACTIVATION(x)\n",
    "            layer_input.append(x)\n",
    "        out = self.predict(x)\n",
    "        return out, layer_input, pre_activation\n",
    "\n",
    "nets = [Net(batch_normalization=False), Net(batch_normalization=True)]\n",
    "\n",
    "# print(*nets)    # print net architecture\n",
    "\n",
    "opts = [torch.optim.Adam(net.parameters(), lr=LR) for net in nets]\n",
    "\n",
    "loss_func = torch.nn.MSELoss()\n",
    "\n",
    "\n",
    "def plot_histogram(l_in, l_in_bn, pre_ac, pre_ac_bn):\n",
    "    for i, (ax_pa, ax_pa_bn, ax, ax_bn) in enumerate(zip(axs[0, :], axs[1, :], axs[2, :], axs[3, :])):\n",
    "        [a.clear() for a in [ax_pa, ax_pa_bn, ax, ax_bn]]\n",
    "        if i == 0:\n",
    "            p_range = (-7, 10);the_range = (-7, 10)\n",
    "        else:\n",
    "            p_range = (-4, 4);the_range = (-1, 1)\n",
    "        ax_pa.set_title('L' + str(i))\n",
    "        ax_pa.hist(pre_ac[i].data.numpy().ravel(), bins=10, range=p_range, color='#FF9359', alpha=0.5);ax_pa_bn.hist(pre_ac_bn[i].data.numpy().ravel(), bins=10, range=p_range, color='#74BCFF', alpha=0.5)\n",
    "        ax.hist(l_in[i].data.numpy().ravel(), bins=10, range=the_range, color='#FF9359');ax_bn.hist(l_in_bn[i].data.numpy().ravel(), bins=10, range=the_range, color='#74BCFF')\n",
    "        for a in [ax_pa, ax, ax_pa_bn, ax_bn]: a.set_yticks(());a.set_xticks(())\n",
    "        ax_pa_bn.set_xticks(p_range);ax_bn.set_xticks(the_range)\n",
    "        axs[0, 0].set_ylabel('PreAct');axs[1, 0].set_ylabel('BN PreAct');axs[2, 0].set_ylabel('Act');axs[3, 0].set_ylabel('BN Act')\n",
    "    plt.pause(0.01)\n",
    "\n",
    "\n",
    "if __name__ == \"__main__\":\n",
    "    f, axs = plt.subplots(4, N_HIDDEN + 1, figsize=(10, 5))\n",
    "    plt.ion()  # something about plotting\n",
    "    plt.show()\n",
    "\n",
    "    # training\n",
    "    losses = [[], []]  # recode loss for two networks\n",
    "\n",
    "    for epoch in range(EPOCH):\n",
    "        print('Epoch: ', epoch)\n",
    "        layer_inputs, pre_acts = [], []\n",
    "        for net, l in zip(nets, losses):\n",
    "            net.eval()              # set eval mode to fix moving_mean and moving_var\n",
    "            pred, layer_input, pre_act = net(test_x)\n",
    "            l.append(loss_func(pred, test_y).data.item())\n",
    "            layer_inputs.append(layer_input)\n",
    "            pre_acts.append(pre_act)\n",
    "            net.train()             # free moving_mean and moving_var\n",
    "        plot_histogram(*layer_inputs, *pre_acts)     # plot histogram\n",
    "\n",
    "        for step, (b_x, b_y) in enumerate(train_loader):\n",
    "            for net, opt in zip(nets, opts):     # train for each network\n",
    "                pred, _, _ = net(b_x)\n",
    "                loss = loss_func(pred, b_y)\n",
    "                opt.zero_grad()\n",
    "                loss.backward()\n",
    "                opt.step()    # it will also learns the parameters in Batch Normalization\n",
    "\n",
    "    plt.ioff()\n",
    "\n",
    "    # plot training loss\n",
    "    plt.figure(2)\n",
    "    plt.plot(losses[0], c='#FF9359', lw=3, label='Original')\n",
    "    plt.plot(losses[1], c='#74BCFF', lw=3, label='Batch Normalization')\n",
    "    plt.xlabel('step');plt.ylabel('test loss');plt.ylim((0, 2000));plt.legend(loc='best')\n",
    "\n",
    "    # evaluation\n",
    "    # set net to eval mode to freeze the parameters in batch normalization layers\n",
    "    [net.eval() for net in nets]    # set eval mode to fix moving_mean and moving_var\n",
    "    preds = [net(test_x)[0] for net in nets]\n",
    "    plt.figure(3)\n",
    "    plt.plot(test_x.data.numpy(), preds[0].data.numpy(), c='#FF9359', lw=4, label='Original')\n",
    "    plt.plot(test_x.data.numpy(), preds[1].data.numpy(), c='#74BCFF', lw=4, label='Batch Normalization')\n",
    "    plt.scatter(test_x.data.numpy(), test_y.data.numpy(), c='r', s=50, alpha=0.2, label='train')\n",
    "    plt.legend(loc='best')\n",
    "    plt.show()"
   ]
  },
  {
   "cell_type": "code",
   "execution_count": null,
   "metadata": {},
   "outputs": [],
   "source": []
  }
 ],
 "metadata": {
  "kernelspec": {
   "display_name": "Python 3.6.9 64-bit",
   "language": "python",
   "name": "python36964bitbe4a55f02b4d487ab9d485b644b96077"
  },
  "language_info": {
   "codemirror_mode": {
    "name": "ipython",
    "version": 3
   },
   "file_extension": ".py",
   "mimetype": "text/x-python",
   "name": "python",
   "nbconvert_exporter": "python",
   "pygments_lexer": "ipython3",
   "version": "3.6.9"
  }
 },
 "nbformat": 4,
 "nbformat_minor": 2
}
